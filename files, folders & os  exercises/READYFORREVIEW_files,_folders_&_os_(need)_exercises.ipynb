{
 "cells": [
  {
   "attachments": {},
   "cell_type": "markdown",
   "id": "123456",
   "metadata": {},
   "source": [
    "<div style=\"text-align:left;font-size:2em\"><span style=\"font-weight:bolder;font-size:1.25em\">SP2273 | Learning Portfolio</span><br><br><span style=\"font-weight:bold;color:darkred\">Files, Folders & OS (Need) Exercises</span></div>"
   ]
  },
  {
   "cell_type": "code",
   "execution_count": 1,
   "id": "d99bc9f0-f7d5-4992-83f2-74e189d7933b",
   "metadata": {},
   "outputs": [],
   "source": [
    "import os\n",
    "import glob\n",
    "import shutil"
   ]
  },
  {
   "cell_type": "markdown",
   "id": "dd0ec690-b76f-4bb7-bc7a-d0397c179736",
   "metadata": {},
   "source": [
    "# Task 1"
   ]
  },
  {
   "cell_type": "code",
   "execution_count": 4,
   "id": "691dadca-1c72-42a2-8e24-20c3c3abe6c9",
   "metadata": {},
   "outputs": [
    {
     "name": "stdout",
     "output_type": "stream",
     "text": [
      "The newly converted filename is 10-08-singapore.txt.\n"
     ]
    }
   ],
   "source": [
    "def convert_filename(original_filename):\n",
    "    name, extension = os.path.splitext(original_filename)\n",
    "    components = name.split('-')\n",
    "\n",
    "    if len(components) == 3:\n",
    "        month, day, city = components\n",
    "        month_change = {\n",
    "            'jan': '01', 'feb': '02', 'mar': '03',\n",
    "            'apr': '04', 'may': '05', 'jun': '06',\n",
    "            'jul': '07', 'aug': '08', 'sep': '09',\n",
    "            'oct': '10', 'nov': '11', 'dec': '12'\n",
    "        }\n",
    "        numerical_month = month_change.get(month.lower(), 'Invalid')\n",
    "        new_filename = f'{numerical_month}-{day}-{city}{extension}'\n",
    "        \n",
    "        return new_filename\n",
    "    else:\n",
    "        return 'Invalid.'\n",
    "\n",
    "original_filename = \"oct-08-singapore.txt\"\n",
    "converted_filename = convert_filename(original_filename)\n",
    "print(f'The newly converted filename is {converted_filename}.')"
   ]
  },
  {
   "cell_type": "markdown",
   "id": "7f2114f2-88bc-4b51-a219-fecaf78453ca",
   "metadata": {},
   "source": [
    "# Task 2"
   ]
  },
  {
   "cell_type": "code",
   "execution_count": 6,
   "id": "58fe94fd-7d1e-4ef5-a03b-3d4506168f95",
   "metadata": {},
   "outputs": [
    {
     "name": "stdin",
     "output_type": "stream",
     "text": [
      "Old filename: oct-08-singapore.txt\n"
     ]
    },
    {
     "name": "stdout",
     "output_type": "stream",
     "text": [
      "The newly converted filename is 10-08-singapore.txt.\n"
     ]
    }
   ],
   "source": [
    "def rename_my_file(old_file_name): \n",
    "    name, extension = os.path.splitext(old_file_name)\n",
    "    components = name.split('-')\n",
    "\n",
    "    if len(components) == 3:\n",
    "        return convert_filename(original_filename)\n",
    "    else:\n",
    "        return 'Invalid.'\n",
    "\n",
    "old_file_name = input('Old filename:')\n",
    "rename_my_file = rename_my_file(old_file_name)\n",
    "print(f'The newly converted filename is {converted_filename}.')"
   ]
  },
  {
   "cell_type": "markdown",
   "id": "9fa16cef-602c-4562-8be7-d45be861dea4",
   "metadata": {},
   "source": [
    "# Task 3"
   ]
  },
  {
   "cell_type": "code",
   "execution_count": 73,
   "id": "0ed8fd89-9fbc-47b1-a2f7-6ff34d7d577d",
   "metadata": {},
   "outputs": [
    {
     "name": "stdout",
     "output_type": "stream",
     "text": [
      "oct-08_singapore.txt ----> 10-08-singapore.txt\n",
      "jul-10_cairo.txt ----> 07-10-cairo.txt\n",
      "may-15_dhaka.txt ----> 05-15-dhaka.txt\n",
      "may-13_cairo.txt ----> 05-13-cairo.txt\n",
      "oct-21_cairo.txt ----> 10-21-cairo.txt\n",
      "jan-10_singapore.txt ----> 01-10-singapore.txt\n",
      "jun-20_tokyo.txt ----> 06-20-tokyo.txt\n",
      "aug-06_jakarta.txt ----> 08-06-jakarta.txt\n",
      "dec-21_karachi.txt ----> 12-21-karachi.txt\n",
      "jan-01_tokyo.txt ----> 01-01-tokyo.txt\n"
     ]
    }
   ],
   "source": [
    "def rename_my_file(original_filename):\n",
    "    name, extension = os.path.splitext(original_filename)\n",
    "    components = name.split('_')\n",
    "\n",
    "    if len(components) == 2: #to check whether the length of 'components' is equal to 2\n",
    "        date, city = components #unpacks the two elements in the 'components' list into variables 'date' and 'city'\n",
    "        month, day = date.split('-') \n",
    "        \n",
    "        month_change = {\n",
    "            'jan': '01', 'feb': '02', 'mar': '03',\n",
    "            'apr': '04', 'may': '05', 'jun': '06',\n",
    "            'jul': '07', 'aug': '08', 'sep': '09',\n",
    "            'oct': '10', 'nov': '11', 'dec': '12'\n",
    "        }\n",
    "        numerical_month = month_change.get(month.lower(), '00')\n",
    "        new_filename = f'{numerical_month}-{day}-{city}{extension}'\n",
    "        \n",
    "        return new_filename\n",
    "    else:\n",
    "        return 'Invalid.'\n",
    "\n",
    "file_list = ['oct-08_singapore.txt', 'jul-10_cairo.txt', 'may-15_dhaka.txt',\n",
    " 'may-13_cairo.txt', 'oct-21_cairo.txt', 'jan-10_singapore.txt',\n",
    " 'jun-20_tokyo.txt', 'aug-06_jakarta.txt', 'dec-21_karachi.txt',\n",
    " 'jan-01_tokyo.txt']\n",
    "\n",
    "for original_filename in file_list:\n",
    "    new_filename = rename_my_file(original_filename)\n",
    "    print(f'{original_filename} ----> {new_filename}')"
   ]
  },
  {
   "cell_type": "markdown",
   "id": "46a741f8-9f47-40b8-b756-12d2a98a4b9a",
   "metadata": {},
   "source": [
    "# Task 4"
   ]
  },
  {
   "cell_type": "code",
   "execution_count": 75,
   "id": "c1e1b3f3-eccf-4eb1-b85d-c9eb1a936158",
   "metadata": {},
   "outputs": [],
   "source": [
    "def rename_my_file(original_filename):\n",
    "    name, extension = os.path.splitext(original_filename)\n",
    "    components = name.split('_')\n",
    "\n",
    "    if len(components) == 2: #to check whether the length of 'components' is equal to 2\n",
    "        date, city = components #unpacks the two elements in the 'components' list into variables 'date' and 'city'\n",
    "        month, day = date.split('-') \n",
    "        \n",
    "        month_change = {\n",
    "            'jan': '01', 'feb': '02', 'mar': '03',\n",
    "            'apr': '04', 'may': '05', 'jun': '06',\n",
    "            'jul': '07', 'aug': '08', 'sep': '09',\n",
    "            'oct': '10', 'nov': '11', 'dec': '12'\n",
    "        }\n",
    "        numerical_month = month_change.get(month.lower(), '00')\n",
    "        new_filename = f'{numerical_month}-{day}-{city}{extension}'\n",
    "        \n",
    "        return new_filename\n",
    "    else:\n",
    "        return 'Invalid.'\n",
    "\n",
    "folder_path = '\\os-collaboration-exercise-data'\n",
    "txt_files = glob.glob(os.path.join(folder_path,'*.txt'))\n",
    "\n",
    "for old_filename in txt_files:\n",
    "    city_folder_path = os.path.join(extracted_folder_path, city)\n",
    "    if not os.path.exists(city_folder_path):\n",
    "        os.makedirs(city_folder_path)\n",
    "        print(f'Created folder for {city}: {city_folder_path}')\n",
    "    else:\n",
    "        print(f'Folder for {city} already exists: {city_folder_path}')"
   ]
  },
  {
   "cell_type": "markdown",
   "id": "d83422d2-c1d9-43f8-ac3a-66e9fc8ec248",
   "metadata": {},
   "source": [
    "# Task 5"
   ]
  },
  {
   "cell_type": "code",
   "execution_count": 76,
   "id": "bc94964b-ee0f-4c29-a57a-8cd9e6b8e294",
   "metadata": {},
   "outputs": [
    {
     "name": "stdout",
     "output_type": "stream",
     "text": [
      "Folder for Cairo already exists: \\os-collaboration-exercise-data\\Cairo\n",
      "Folder for Dhaka already exists: \\os-collaboration-exercise-data\\Dhaka\n",
      "Folder for Jakarta already exists: \\os-collaboration-exercise-data\\Jakarta\n",
      "Folder for Karachi already exists: \\os-collaboration-exercise-data\\Karachi\n",
      "Folder for Manila already exists: \\os-collaboration-exercise-data\\Manila\n",
      "Folder for Melbourne already exists: \\os-collaboration-exercise-data\\Melbourne\n",
      "Folder for Osaka already exists: \\os-collaboration-exercise-data\\Osaka\n",
      "Folder for Shanghai already exists: \\os-collaboration-exercise-data\\Shanghai\n",
      "Folder for Singapore already exists: \\os-collaboration-exercise-data\\Singapore\n",
      "Folder for Tokyo already exists: \\os-collaboration-exercise-data\\Tokyo\n"
     ]
    }
   ],
   "source": [
    "cities = ['Cairo', 'Dhaka', 'Jakarta', 'Karachi', 'Manila',\n",
    " 'Melbourne', 'Osaka', 'Shanghai', 'Singapore', 'Tokyo']\n",
    "\n",
    "main_folder_path = '\\os-collaboration-exercise-data'\n",
    "for city in cities:\n",
    "    city_folder_path = os.path.join(main_folder_path, city)\n",
    "    if not os.path.exists(city_folder_path):\n",
    "        os.makedirs(city_folder_path)\n",
    "        print(f'Created folder for {city}: {city_folder_path}')\n",
    "    else:\n",
    "        print(f'Folder for {city} already exists: {city_folder_path}')"
   ]
  },
  {
   "cell_type": "markdown",
   "id": "1606825e-21dc-45bf-a06b-b9183ca56024",
   "metadata": {},
   "source": [
    "# Task 6"
   ]
  },
  {
   "cell_type": "code",
   "execution_count": 77,
   "id": "4ac7d674-e818-45c8-9510-85e58ca5046c",
   "metadata": {},
   "outputs": [],
   "source": [
    "main_folder_path = '\\os-collaboration-exercise-data'\n",
    "\n",
    "city_to_copy = 'Cairo'\n",
    "cairo_files = glob.glob(os.path.join(main_folder_path, city_to_copy, '*.txt'))\n",
    "\n",
    "destination_folder_path = '\\os-collaboration-exercise-data\\Cairo'\n",
    "\n",
    "for cairo_file in cairo_files:\n",
    "    destination_path = os.path.join(destination_folder_path, os.path.basename(cairo_file))\n",
    "    shutil.copy(cairo_file, destination_path)"
   ]
  },
  {
   "cell_type": "markdown",
   "id": "e315f355-67b0-460f-8bb6-4ea59d477fcc",
   "metadata": {},
   "source": [
    "# Task 7"
   ]
  },
  {
   "cell_type": "code",
   "execution_count": 78,
   "id": "fd7efb65-dbf0-4cd3-a6c7-614e544ee4ef",
   "metadata": {},
   "outputs": [],
   "source": [
    "main_folder_path = '\\os-collaboration-exercise-data'\n",
    "destination_folder_path = '\\os-collaboration-exercise-data'\n",
    "\n",
    "for city in os.listdir(main_folder_path):\n",
    "    city_folder_path = os.path.join(main_folder_path, city)\n",
    "    if not os.path.isdir(city_folder_path):\n",
    "        continue\n",
    "\n",
    "    city_files = glob.glob(os.path.join(city_folder_path, '*.txt'))\n",
    "\n",
    "    for city_file in city_files:\n",
    "        destination_path = os.path.join(destination_folder_path, os.path.basename(city_file))\n",
    "        shutil.move(city_file, destination_path)"
   ]
  }
 ],
 "metadata": {
  "kernelspec": {
   "display_name": "Python 3 (ipykernel)",
   "language": "python",
   "name": "python3"
  },
  "language_info": {
   "codemirror_mode": {
    "name": "ipython",
    "version": 3
   },
   "file_extension": ".py",
   "mimetype": "text/x-python",
   "name": "python",
   "nbconvert_exporter": "python",
   "pygments_lexer": "ipython3",
   "version": "3.11.5"
  },
  "toc": {
   "base_numbering": 1,
   "nav_menu": {},
   "number_sections": true,
   "sideBar": true,
   "skip_h1_title": false,
   "title_cell": "Table of Contents",
   "title_sidebar": "Contents",
   "toc_cell": false,
   "toc_position": {},
   "toc_section_display": true,
   "toc_window_display": false
  },
  "vscode": {
   "interpreter": {
    "hash": "31f2aee4e71d21fbe5cf8b01ff0e069b9275f58929596ceb00d14d90e3e16cd6"
   }
  }
 },
 "nbformat": 4,
 "nbformat_minor": 5
}
