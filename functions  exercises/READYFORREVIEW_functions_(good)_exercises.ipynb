{
 "cells": [
  {
   "attachments": {},
   "cell_type": "markdown",
   "id": "123456",
   "metadata": {},
   "source": [
    "<div style=\"text-align:left;font-size:2em\"><span style=\"font-weight:bolder;font-size:1.25em\">SP2273 | Learning Portfolio</span><br><br><span style=\"font-weight:bold;color:darkred\">Functions (Good) Exercises</span></div>"
   ]
  },
  {
   "cell_type": "markdown",
   "id": "7998f789-714f-4a9d-8405-21999324e30d",
   "metadata": {},
   "source": [
    "# Exercise 1"
   ]
  },
  {
   "cell_type": "code",
   "execution_count": 2,
   "id": "3e948d1a-61ac-4325-aabb-7a02f0d8377c",
   "metadata": {},
   "outputs": [
    {
     "name": "stdin",
     "output_type": "stream",
     "text": [
      "Temperature in celsius: 25\n",
      "Target scale: kelvin\n"
     ]
    },
    {
     "name": "stdout",
     "output_type": "stream",
     "text": [
      "The converted temperature in kelvin is: 77.00\n"
     ]
    }
   ],
   "source": [
    "def convert_celsius(temperature_celsius, target_scale = 'fahrenheit'.upper()):\n",
    "    try:\n",
    "        temperature_celsius = float(temperature_celsius) #for this to be performed as a mathematical input, it has to be changed to float\n",
    "        if target_scale == 'kelvin'.upper():\n",
    "            temperature_changed = temperature_celsius + 273.15\n",
    "            return temperature_changed\n",
    "        else:\n",
    "            temperature_changed = (temperature_celsius*1.8) + 32\n",
    "            return temperature_changed\n",
    "    except:\n",
    "        return 'Invalid. Please input a number.'\n",
    "\n",
    "\n",
    "temperature_celsius = input('Temperature in celsius:')\n",
    "target_scale = input('Target scale:')\n",
    "temperature_changed = convert_celsius(temperature_celsius, target_scale)\n",
    "print(f'The converted temperature in {target_scale} is: {temperature_changed:.2f}')"
   ]
  },
  {
   "cell_type": "markdown",
   "id": "4369410b-7fa3-4aee-a98e-8c78b4e28d03",
   "metadata": {},
   "source": [
    "# Exercise 2"
   ]
  },
  {
   "cell_type": "code",
   "execution_count": 3,
   "id": "b86f685e-2597-4532-9e83-07d2a7b54e63",
   "metadata": {},
   "outputs": [
    {
     "name": "stdin",
     "output_type": "stream",
     "text": [
      "Temperature in fahrenheit: 25\n",
      "Target scale: CELSIUS\n"
     ]
    },
    {
     "name": "stdout",
     "output_type": "stream",
     "text": [
      "The converted temperature in CELSIUS is: -3.89\n"
     ]
    }
   ],
   "source": [
    "def convert_fahrenheit(temperature_fahrenheit, target_scale = 'celsius'.upper()):\n",
    "    try:\n",
    "        temperature_fahrenheit = float(temperature_fahrenheit)\n",
    "        if target_scale == 'kelvin'.upper():\n",
    "            temperature_changed = (temperature_fahrenheit - 32)*(5/9) + 273\n",
    "            return temperature_changed\n",
    "        else:\n",
    "            temperature_changed = (temperature_fahrenheit - 32)*(5/9)\n",
    "            return temperature_changed\n",
    "    except:\n",
    "        return 'Invalid. Please input a number.'\n",
    "\n",
    "temperature_fahrenheit = input('Temperature in fahrenheit:')\n",
    "target_scale = input('Target scale:')\n",
    "temperature_changed = convert_fahrenheit(temperature_fahrenheit, target_scale)\n",
    "print(f'The converted temperature in {target_scale} is: {temperature_changed:.2f}')"
   ]
  },
  {
   "cell_type": "markdown",
   "id": "3a3ca2d5-6d6a-481a-86c1-165f9d170e9a",
   "metadata": {},
   "source": [
    "# Exercise 3"
   ]
  },
  {
   "cell_type": "code",
   "execution_count": 4,
   "id": "ef4bed40-5d7d-4490-b89f-71f1b923eefa",
   "metadata": {},
   "outputs": [
    {
     "name": "stdin",
     "output_type": "stream",
     "text": [
      "Temperature in kelvin: 25\n",
      "Target scale: fahrenheit\n"
     ]
    },
    {
     "name": "stdout",
     "output_type": "stream",
     "text": [
      "The converted temperature in fahrenheit is: -248.00\n"
     ]
    }
   ],
   "source": [
    "def convert_kelvin(temperature_kelvin, target_scale = 'celsius'.upper()):\n",
    "    try:\n",
    "        temperature_kelvin = float(temperature_kelvin)\n",
    "        if target_scale == 'fahrenheit'.upper():\n",
    "                temperature_changed = (temperature_kelvin - 273)*1.8 + 32\n",
    "                return temperature_changed\n",
    "        else:\n",
    "            temperature_changed = (temperature_kelvin - 273)\n",
    "            return temperature_changed\n",
    "    except:\n",
    "            return \"Invalid.\"\n",
    "\n",
    "temperature_kelvin = input('Temperature in kelvin:')\n",
    "target_scale = input('Target scale:')\n",
    "temperature_changed = convert_kelvin(temperature_kelvin, target_scale)\n",
    "print(f'The converted temperature in {target_scale} is: {temperature_changed:.2f}')"
   ]
  },
  {
   "cell_type": "code",
   "execution_count": 5,
   "id": "ee5ae15a-dd9a-45de-8653-a70864f79668",
   "metadata": {},
   "outputs": [
    {
     "name": "stdin",
     "output_type": "stream",
     "text": [
      "Temperature: 25\n",
      "Source scale: CELSIUS\n",
      "Target scale: kelvin\n"
     ]
    },
    {
     "name": "stdout",
     "output_type": "stream",
     "text": [
      "The converted temperature from CELSIUS to kelvin is: 77.00\n"
     ]
    }
   ],
   "source": [
    "def convert_temperature(temperature, source_scale, target_scale):\n",
    "    try:\n",
    "        temperature =  float(temperature)\n",
    "        if source_scale == 'celsius'.upper():\n",
    "            return convert_celsius(temperature, target_scale)\n",
    "        elif source_scale == 'fahrenheit'.upper():\n",
    "            return convert_fahrenheit(temperature, target_scale)\n",
    "        elif source_scale == 'kelvin'.upper():\n",
    "            return convert_kelvin(temperature, target_scale)\n",
    "        else:\n",
    "             return \"Invalid. Please input either 'kelvin', 'fahrenheit' or 'celsius'.\"\n",
    "    except:\n",
    "        return 'Invalid. Please input a number.'\n",
    "\n",
    "temperature = input('Temperature:')\n",
    "source_scale = input('Source scale:')\n",
    "target_scale = input('Target scale:')\n",
    "temperature_changed = convert_temperature(temperature, source_scale, target_scale)\n",
    "print(f'The converted temperature from {source_scale} to {target_scale} is: {temperature_changed:.2f}')"
   ]
  }
 ],
 "metadata": {
  "kernelspec": {
   "display_name": "Python 3 (ipykernel)",
   "language": "python",
   "name": "python3"
  },
  "language_info": {
   "codemirror_mode": {
    "name": "ipython",
    "version": 3
   },
   "file_extension": ".py",
   "mimetype": "text/x-python",
   "name": "python",
   "nbconvert_exporter": "python",
   "pygments_lexer": "ipython3",
   "version": "3.11.5"
  },
  "toc": {
   "base_numbering": 1,
   "nav_menu": {},
   "number_sections": true,
   "sideBar": true,
   "skip_h1_title": false,
   "title_cell": "Table of Contents",
   "title_sidebar": "Contents",
   "toc_cell": false,
   "toc_position": {},
   "toc_section_display": true,
   "toc_window_display": false
  },
  "vscode": {
   "interpreter": {
    "hash": "31f2aee4e71d21fbe5cf8b01ff0e069b9275f58929596ceb00d14d90e3e16cd6"
   }
  }
 },
 "nbformat": 4,
 "nbformat_minor": 5
}
