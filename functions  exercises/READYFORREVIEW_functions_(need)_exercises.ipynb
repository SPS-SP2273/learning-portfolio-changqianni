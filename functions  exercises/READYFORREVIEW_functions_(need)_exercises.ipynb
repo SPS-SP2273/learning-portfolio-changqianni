{
 "cells": [
  {
   "attachments": {},
   "cell_type": "markdown",
   "id": "123456",
   "metadata": {},
   "source": [
    "<div style=\"text-align:left;font-size:2em\"><span style=\"font-weight:bolder;font-size:1.25em\">SP2273 | Learning Portfolio</span><br><br><span style=\"font-weight:bold;color:darkred\">Functions (Need) Exercises</span></div>"
   ]
  },
  {
   "cell_type": "markdown",
   "id": "2aa8a0b4-9345-4e3d-b46f-b3d08b290195",
   "metadata": {},
   "source": [
    "# Exercise 1"
   ]
  },
  {
   "cell_type": "code",
   "execution_count": 1,
   "id": "4ff435c2-9da7-4397-9035-350c82c823de",
   "metadata": {},
   "outputs": [],
   "source": [
    "def greeting(name):\n",
    "    if name == 'Batman':\n",
    "        return 'Hello Batman! So, nice to meet you!'\n",
    "    return f'Hello {name}!'"
   ]
  },
  {
   "cell_type": "code",
   "execution_count": 6,
   "id": "af12bfd2-6675-4faa-b224-39e6fddb949c",
   "metadata": {},
   "outputs": [
    {
     "data": {
      "text/plain": [
       "'Hello you!'"
      ]
     },
     "execution_count": 6,
     "metadata": {},
     "output_type": "execute_result"
    }
   ],
   "source": [
    "name = 'you'\n",
    "greeting(name)"
   ]
  },
  {
   "cell_type": "markdown",
   "id": "e89ed7db-521e-4476-8a06-6e54d52770d0",
   "metadata": {},
   "source": [
    "1. def greeting(name): this line defines function as greeting and accepts the argument 'name'.\n",
    "\n",
    "2. if name == 'Batman': this lines defines the arugment 'name' and gives a condition that if name has the value of 'Batman',\n",
    "3. return 'Hello Batman! So, nice to meet you!': this line let python understand given the condition above, it specifies the action to be carried out (if the value is 'Batman', python will return this results) however, this is on the condition that name is 'Batman' (can be see as an 'inner return')\n",
    "4. return f'Hello {name}!': this line shows the action that python is supposed to carry out, if the name is not 'Batman'. this allows python to input and return no matter the value of name, even if not batman. hence, as long as name is defined, the return will be done to input the value of name as shown in the code cell above."
   ]
  },
  {
   "cell_type": "markdown",
   "id": "baa0e2da-121d-406a-b088-d06377c4c706",
   "metadata": {},
   "source": [
    "# Exericse 2"
   ]
  },
  {
   "cell_type": "code",
   "execution_count": 46,
   "id": "2caac36b-590b-40b4-be1c-98c657ed5e9a",
   "metadata": {},
   "outputs": [
    {
     "name": "stdout",
     "output_type": "stream",
     "text": [
      "Your BMI catergory is: Normal weight.\n"
     ]
    }
   ],
   "source": [
    "def calculate_bmi(weight, height):\n",
    "    BMI = weight / (height ** 2)\n",
    "    \n",
    "    if BMI < 18.5:\n",
    "        BMI_category = 'Underweight'\n",
    "    elif 18.5 <= BMI <= 24.9:\n",
    "        BMI_category = 'Normal weight'\n",
    "    elif 25 <= BMI <= 29.9:\n",
    "        BMI_category = 'Overweight'\n",
    "    else:\n",
    "        BMI_category = 'Obesity'\n",
    "        \n",
    "    return BMI, BMI_category #indentation must be the same level as the rest of the if, elif and else, if not it will only return for else\n",
    "\n",
    "#example\n",
    "weight = 52\n",
    "height = 1.61 \n",
    "BMI, BMI_category = calculate_bmi(weight, height) #righthand side calls for the function above, left hand side will then be assigned accordingly to the defintion above\n",
    "print(f'Your BMI catergory is: {BMI_category}.')"
   ]
  }
 ],
 "metadata": {
  "kernelspec": {
   "display_name": "Python 3 (ipykernel)",
   "language": "python",
   "name": "python3"
  },
  "language_info": {
   "codemirror_mode": {
    "name": "ipython",
    "version": 3
   },
   "file_extension": ".py",
   "mimetype": "text/x-python",
   "name": "python",
   "nbconvert_exporter": "python",
   "pygments_lexer": "ipython3",
   "version": "3.11.5"
  },
  "toc": {
   "base_numbering": 1,
   "nav_menu": {},
   "number_sections": true,
   "sideBar": true,
   "skip_h1_title": false,
   "title_cell": "Table of Contents",
   "title_sidebar": "Contents",
   "toc_cell": false,
   "toc_position": {},
   "toc_section_display": true,
   "toc_window_display": false
  },
  "vscode": {
   "interpreter": {
    "hash": "31f2aee4e71d21fbe5cf8b01ff0e069b9275f58929596ceb00d14d90e3e16cd6"
   }
  }
 },
 "nbformat": 4,
 "nbformat_minor": 5
}
