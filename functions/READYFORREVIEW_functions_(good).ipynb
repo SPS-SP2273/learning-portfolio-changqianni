{
 "cells": [
  {
   "attachments": {},
   "cell_type": "markdown",
   "id": "123456",
   "metadata": {},
   "source": [
    "<div style=\"text-align:left;font-size:2em\"><span style=\"font-weight:bolder;font-size:1.25em\">SP2273 | Learning Portfolio</span><br><br><span style=\"font-weight:bold;color:darkred\">Functions (Good)</span></div>"
   ]
  },
  {
   "attachments": {},
   "cell_type": "markdown",
   "id": "d9dfab76",
   "metadata": {},
   "source": [
    "# What to expect in this chapter"
   ]
  },
  {
   "attachments": {},
   "cell_type": "markdown",
   "id": "367e1dbc",
   "metadata": {},
   "source": [
    "# 1 Checks, balances, and contingencies"
   ]
  },
  {
   "attachments": {},
   "cell_type": "markdown",
   "id": "14d60bd2",
   "metadata": {},
   "source": [
    "## 1.1 assert"
   ]
  },
  {
   "cell_type": "code",
   "execution_count": 6,
   "id": "093d5237-c4ba-4ec6-b640-acab1ee3bd5c",
   "metadata": {},
   "outputs": [],
   "source": [
    "# assert condition-to-check, message"
   ]
  },
  {
   "cell_type": "code",
   "execution_count": 7,
   "id": "405cf2ea-0144-45a1-93ba-8cf22ea434a2",
   "metadata": {},
   "outputs": [],
   "source": [
    "x=10\n",
    "assert x>= 0, 'x is becoming negative!' #will run as long as condition is true"
   ]
  },
  {
   "cell_type": "code",
   "execution_count": 8,
   "id": "f77b1bf4-54a3-4f7b-a96c-6e29fd068b59",
   "metadata": {},
   "outputs": [
    {
     "ename": "AssertionError",
     "evalue": "x is becoming negative!",
     "output_type": "error",
     "traceback": [
      "\u001b[1;31m---------------------------------------------------------------------------\u001b[0m",
      "\u001b[1;31mAssertionError\u001b[0m                            Traceback (most recent call last)",
      "Cell \u001b[1;32mIn[8], line 2\u001b[0m\n\u001b[0;32m      1\u001b[0m x\u001b[38;5;241m=\u001b[39m\u001b[38;5;241m-\u001b[39m\u001b[38;5;241m1\u001b[39m\n\u001b[1;32m----> 2\u001b[0m \u001b[38;5;28;01massert\u001b[39;00m x\u001b[38;5;241m>\u001b[39m\u001b[38;5;241m=\u001b[39m\u001b[38;5;241m0\u001b[39m, \u001b[38;5;124m'\u001b[39m\u001b[38;5;124mx is becoming negative!\u001b[39m\u001b[38;5;124m'\u001b[39m \u001b[38;5;66;03m#will be stopped if condition is false\u001b[39;00m\n",
      "\u001b[1;31mAssertionError\u001b[0m: x is becoming negative!"
     ]
    }
   ],
   "source": [
    "x=-1\n",
    "assert x>=0, 'x is becoming negative!' #will be stopped if condition is false"
   ]
  },
  {
   "attachments": {},
   "cell_type": "markdown",
   "id": "f13f4077",
   "metadata": {},
   "source": [
    "## 1.2 try-except"
   ]
  },
  {
   "cell_type": "code",
   "execution_count": 12,
   "id": "adbb3761-313e-4522-98ff-7d5fa029d928",
   "metadata": {},
   "outputs": [
    {
     "name": "stdin",
     "output_type": "stream",
     "text": [
      "Give me a number and I will calculate its square. 7\n"
     ]
    },
    {
     "name": "stdout",
     "output_type": "stream",
     "text": [
      "The square of 7 is 49!\n"
     ]
    }
   ],
   "source": [
    "number = input('Give me a number and I will calculate its square.')\n",
    "square = int(number)**2 #Converting english to number by putting the formula\n",
    "print(f'The square of {number} is {square}!')"
   ]
  },
  {
   "cell_type": "code",
   "execution_count": 17,
   "id": "9274a648-1a74-47d4-9f2e-85e792bbd394",
   "metadata": {},
   "outputs": [
    {
     "name": "stdin",
     "output_type": "stream",
     "text": [
      "Give me a number and I will calculate its square. HAHAH\n"
     ]
    },
    {
     "name": "stdout",
     "output_type": "stream",
     "text": [
      "Oh oh, I can't square HAHAH!\n"
     ]
    }
   ],
   "source": [
    "try:\n",
    "    number = input('Give me a number and I will calculate its square.')\n",
    "    square = int(number)**2\n",
    "    print(f'The square of {number} is {square}!')\n",
    "except:\n",
    "    print(f'Oh oh, I can\\'t square {number}!') #remeber to put f inside the print if not it will print the literal words"
   ]
  },
  {
   "attachments": {},
   "cell_type": "markdown",
   "id": "3c5e4b69",
   "metadata": {},
   "source": [
    "## 1.3 A simple suggestion"
   ]
  },
  {
   "attachments": {},
   "cell_type": "markdown",
   "id": "cd0d91af",
   "metadata": {},
   "source": [
    "# 2 Some loose ends"
   ]
  },
  {
   "attachments": {},
   "cell_type": "markdown",
   "id": "43ee22aa",
   "metadata": {},
   "source": [
    "## 2.1 Positional, keyword and default arguments"
   ]
  },
  {
   "cell_type": "code",
   "execution_count": 40,
   "id": "09431fcb-2526-4b2d-991d-6f7d6bcb0b0e",
   "metadata": {},
   "outputs": [],
   "source": [
    "def side_by_side(a, b, c= 42):\n",
    "    return f'{a:2d}|{b:2d}|{c:2d}'"
   ]
  },
  {
   "cell_type": "code",
   "execution_count": 37,
   "id": "f876d66f-6227-4e19-9cb5-594ffe9b87e1",
   "metadata": {},
   "outputs": [
    {
     "data": {
      "text/plain": [
       "' 1| 2| 3'"
      ]
     },
     "execution_count": 37,
     "metadata": {},
     "output_type": "execute_result"
    }
   ],
   "source": [
    "side_by_side(1, 2, 3) #positional"
   ]
  },
  {
   "cell_type": "code",
   "execution_count": 38,
   "id": "ca88f7ca-c884-4dd2-9f89-ddd07c190c6f",
   "metadata": {},
   "outputs": [
    {
     "data": {
      "text/plain": [
       "' 2| 1| 3'"
      ]
     },
     "execution_count": 38,
     "metadata": {},
     "output_type": "execute_result"
    }
   ],
   "source": [
    "side_by_side(c=3, b=1, a=2) #keywords"
   ]
  },
  {
   "cell_type": "code",
   "execution_count": 41,
   "id": "381b3807-b486-418f-ba77-15820ef2c129",
   "metadata": {},
   "outputs": [
    {
     "data": {
      "text/plain": [
       "' 1| 2|42'"
      ]
     },
     "execution_count": 41,
     "metadata": {},
     "output_type": "execute_result"
    }
   ],
   "source": [
    "side_by_side(1, b=2) #default, since in the defitnion c is defined as 42"
   ]
  },
  {
   "cell_type": "code",
   "execution_count": 42,
   "id": "bd1ec743-2038-4066-86d5-f71da91aaefc",
   "metadata": {},
   "outputs": [
    {
     "data": {
      "text/plain": [
       "' 1| 2|42'"
      ]
     },
     "execution_count": 42,
     "metadata": {},
     "output_type": "execute_result"
    }
   ],
   "source": [
    "side_by_side(1, 2)           # Two positional, 1 default\n",
    "# ' 1| 2| 42'\n",
    "side_by_side(1, 2, 3)        # Three positional\n",
    "# ' 1| 2| 3'\n",
    "side_by_side(a=1, b=2)       # Two keyword, 1 default\n",
    "# ' 1| 2| 42'\n",
    "side_by_side(c=3, b=1, a=2)  # Three keyword\n",
    "# ' 2| 1| 3'\n",
    "side_by_side(1, c=3, b=2)    # One positional, 2 keyword\n",
    "# ' 1| 2| 3'\n",
    "side_by_side(1, b=2)         # One positional, 1 keyword, 1 default\n",
    "# ' 1| 2| 42'"
   ]
  },
  {
   "cell_type": "code",
   "execution_count": 44,
   "id": "14bdf68c-060a-4c72-aec7-ceb729a89d78",
   "metadata": {},
   "outputs": [
    {
     "ename": "SyntaxError",
     "evalue": "positional argument follows keyword argument (2668625271.py, line 1)",
     "output_type": "error",
     "traceback": [
      "\u001b[1;36m  Cell \u001b[1;32mIn[44], line 1\u001b[1;36m\u001b[0m\n\u001b[1;33m    side_by_side(a=1, 1) #keywords cannot be followed by positional arguments as its ambiguous to determine position of 1\u001b[0m\n\u001b[1;37m                       ^\u001b[0m\n\u001b[1;31mSyntaxError\u001b[0m\u001b[1;31m:\u001b[0m positional argument follows keyword argument\n"
     ]
    }
   ],
   "source": [
    "side_by_side(a=1, 1) #keywords cannot be followed by positional arguments as its ambiguous to determine position of 1"
   ]
  },
  {
   "attachments": {},
   "cell_type": "markdown",
   "id": "9aab6742",
   "metadata": {},
   "source": [
    "## 2.2 Docstrings"
   ]
  },
  {
   "cell_type": "code",
   "execution_count": 47,
   "id": "166eb278-fa75-42a1-bea1-5bcfb8da80b9",
   "metadata": {},
   "outputs": [],
   "source": [
    "def side_by_side(a, b, c = 42):\n",
    "    '''\n",
    "    A test function to demonstrate how\n",
    "    positional, keyword and default arguments work.\n",
    "    '''\n",
    "    return f'{a:2d}|{b:2d}|{c:2d}' #a docstring that allows us to document what a function does inside the function"
   ]
  },
  {
   "cell_type": "code",
   "execution_count": 48,
   "id": "20673edb-9944-4674-b0fa-eafbfbe40df0",
   "metadata": {},
   "outputs": [
    {
     "name": "stdout",
     "output_type": "stream",
     "text": [
      "Help on function side_by_side in module __main__:\n",
      "\n",
      "side_by_side(a, b, c=42)\n",
      "    A test function to demonstrate how\n",
      "    positional, keyword and default arguments work.\n",
      "\n"
     ]
    }
   ],
   "source": [
    "help(side_by_side)"
   ]
  },
  {
   "attachments": {},
   "cell_type": "markdown",
   "id": "a9c6fa56",
   "metadata": {},
   "source": [
    "## 2.3 Function are first-class citizens"
   ]
  },
  {
   "cell_type": "code",
   "execution_count": 50,
   "id": "d5b93a43-41c3-4110-96c8-2462ff43d4f5",
   "metadata": {},
   "outputs": [],
   "source": [
    "def my_function(angle, trig_function):\n",
    "    return trig_function(angle)"
   ]
  },
  {
   "cell_type": "code",
   "execution_count": 51,
   "id": "1aa8e4c7-2949-4eed-800c-d4f14c91dac9",
   "metadata": {},
   "outputs": [],
   "source": [
    "import numpy as np"
   ]
  },
  {
   "cell_type": "code",
   "execution_count": 53,
   "id": "1ea7784c-c19d-4089-a4de-0c66e0498f99",
   "metadata": {},
   "outputs": [
    {
     "data": {
      "text/plain": [
       "1.0"
      ]
     },
     "execution_count": 53,
     "metadata": {},
     "output_type": "execute_result"
    }
   ],
   "source": [
    "my_function(np.pi/2, np.sin)"
   ]
  },
  {
   "cell_type": "code",
   "execution_count": 55,
   "id": "9c67f939-90dd-4a3a-9183-9d5ef6c72c10",
   "metadata": {},
   "outputs": [
    {
     "data": {
      "text/plain": [
       "6.123233995736766e-17"
      ]
     },
     "execution_count": 55,
     "metadata": {},
     "output_type": "execute_result"
    }
   ],
   "source": [
    "my_function(np.pi/2, np.cos)"
   ]
  },
  {
   "cell_type": "code",
   "execution_count": 56,
   "id": "b59f9d08-168e-4c2e-ba93-7ae76c976af5",
   "metadata": {},
   "outputs": [
    {
     "data": {
      "text/plain": [
       "-1.0"
      ]
     },
     "execution_count": 56,
     "metadata": {},
     "output_type": "execute_result"
    }
   ],
   "source": [
    "my_function(np.pi/2, lambda x: np.cos(2*x))"
   ]
  },
  {
   "attachments": {},
   "cell_type": "markdown",
   "id": "b4e7e891",
   "metadata": {},
   "source": [
    "## 2.4 More about unpacking"
   ]
  },
  {
   "cell_type": "code",
   "execution_count": 58,
   "id": "c3c0bd0e-5c79-4452-950b-32f26b5cc567",
   "metadata": {},
   "outputs": [
    {
     "data": {
      "text/plain": [
       "(1, 2, 3)"
      ]
     },
     "execution_count": 58,
     "metadata": {},
     "output_type": "execute_result"
    }
   ],
   "source": [
    "x, y, z = [1, 2, 3]\n",
    "x, y, z"
   ]
  },
  {
   "cell_type": "code",
   "execution_count": 60,
   "id": "d391a6da-048e-4756-bac5-85c67820f90e",
   "metadata": {},
   "outputs": [
    {
     "data": {
      "text/plain": [
       "(1, 2, 3)"
      ]
     },
     "execution_count": 60,
     "metadata": {},
     "output_type": "execute_result"
    }
   ],
   "source": [
    "x, y, z = np.array([1, 2, 3])\n",
    "x, y, z"
   ]
  },
  {
   "cell_type": "code",
   "execution_count": 64,
   "id": "195419fb-8d49-4c24-af63-0a8449724df4",
   "metadata": {},
   "outputs": [
    {
     "data": {
      "text/plain": [
       "(1, [2, 3, 4], 5)"
      ]
     },
     "execution_count": 64,
     "metadata": {},
     "output_type": "execute_result"
    }
   ],
   "source": [
    "x, *y, z = np.array([1, 2, 3, 4, 5])\n",
    "x, y, z"
   ]
  },
  {
   "cell_type": "code",
   "execution_count": 66,
   "id": "ca99a62b-4bba-4c59-9f70-17bbfd7dcc6a",
   "metadata": {},
   "outputs": [
    {
     "data": {
      "text/plain": [
       "(1, 5)"
      ]
     },
     "execution_count": 66,
     "metadata": {},
     "output_type": "execute_result"
    }
   ],
   "source": [
    "x, *_, y = np.array([1, 2, 3, 4, 5])\n",
    "x, y"
   ]
  }
 ],
 "metadata": {
  "kernelspec": {
   "display_name": "Python 3 (ipykernel)",
   "language": "python",
   "name": "python3"
  },
  "language_info": {
   "codemirror_mode": {
    "name": "ipython",
    "version": 3
   },
   "file_extension": ".py",
   "mimetype": "text/x-python",
   "name": "python",
   "nbconvert_exporter": "python",
   "pygments_lexer": "ipython3",
   "version": "3.11.5"
  },
  "toc": {
   "base_numbering": 1,
   "nav_menu": {},
   "number_sections": true,
   "sideBar": true,
   "skip_h1_title": false,
   "title_cell": "Table of Contents",
   "title_sidebar": "Contents",
   "toc_cell": false,
   "toc_position": {},
   "toc_section_display": true,
   "toc_window_display": false
  },
  "vscode": {
   "interpreter": {
    "hash": "31f2aee4e71d21fbe5cf8b01ff0e069b9275f58929596ceb00d14d90e3e16cd6"
   }
  }
 },
 "nbformat": 4,
 "nbformat_minor": 5
}
