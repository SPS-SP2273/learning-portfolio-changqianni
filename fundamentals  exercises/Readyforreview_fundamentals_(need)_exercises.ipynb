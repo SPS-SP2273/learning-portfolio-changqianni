{
 "cells": [
  {
   "attachments": {},
   "cell_type": "markdown",
   "id": "123456",
   "metadata": {},
   "source": [
    "<div style=\"text-align:left;font-size:2em\"><span style=\"font-weight:bolder;font-size:1.25em\">SP2273 | Learning Portfolio</span><br><br><span style=\"font-weight:bold;color:darkred\">Fundamentals (Need) Exercises</span></div>"
   ]
  },
  {
   "cell_type": "markdown",
   "id": "b8f6f36b-23bd-4189-a6dd-8cf6dfec1308",
   "metadata": {},
   "source": [
    "# Exercise 1"
   ]
  },
  {
   "cell_type": "markdown",
   "id": "b8ff7315-bb68-4a4d-8df9-ca3d4ceac30b",
   "metadata": {},
   "source": [
    "**the list of things I remember:**\n",
    "1. using dots such as .split()\n",
    "3. defining a word to another word eg. name=\"Batman\"\n",
    "4. defining a list of words ^Batman example\n",
    "5. importing math package\n",
    "6. importing numpy package\n",
    "7. numpy package has some functions that math package doesn't, such as .split()\n",
    "8. python is case sensitive\n",
    "9. python is space sensitive (cannot anyhow put spacing or tabs)\n",
    "10. the usage of : and indentations for if questions\n",
    "11. python ignoring anything behind # as it will treat that as a comment\n",
    "\n",
    "only could remember a lot by the example but not the function"
   ]
  },
  {
   "cell_type": "markdown",
   "id": "0cf2df2c-5bef-4810-9513-423418fabbaa",
   "metadata": {},
   "source": [
    "**the list of things learnt in Fundamentals (Need):**\n",
    "1. *using functions such as print( ) in python*\n",
    "2. *python is intepreted*\n",
    "3. python in sensitive\n",
    "4. the usage of # to mark comments\n",
    "5. *= is not the same as ==* (== asks a true or false question)\n",
    "6. usage of if to make a decision\n",
    "7. indentations are very important\n",
    "8. *the presence of ' ' and without*\n",
    "9. *usage of the three different types of brackets*\n",
    "10. math package\n",
    "11. numpy package\n",
    "12. different functions for different packages although there are overlapping functions\n",
    "13. the dot (.)"
   ]
  },
  {
   "cell_type": "markdown",
   "id": "20cac566-0c54-421b-a329-f77e22187734",
   "metadata": {},
   "source": [
    "# Exercise 2"
   ]
  },
  {
   "cell_type": "code",
   "execution_count": 4,
   "id": "9f7abddc-93f3-43ce-add0-aa17d91e7e61",
   "metadata": {},
   "outputs": [
    {
     "ename": "IndentationError",
     "evalue": "unindent does not match any outer indentation level (<tokenize>, line 3)",
     "output_type": "error",
     "traceback": [
      "\u001b[1;36m  File \u001b[1;32m<tokenize>:3\u001b[1;36m\u001b[0m\n\u001b[1;33m    Print(x, y, z)\u001b[0m\n\u001b[1;37m    ^\u001b[0m\n\u001b[1;31mIndentationError\u001b[0m\u001b[1;31m:\u001b[0m unindent does not match any outer indentation level\n"
     ]
    }
   ],
   "source": [
    "x, y = 3, 4\n",
    "        z = sqrt(x*2 + y**2)\n",
    "    Print(x, y, z)"
   ]
  },
  {
   "cell_type": "code",
   "execution_count": 3,
   "id": "da93f79f-6a95-47d0-809b-2dcbf1507c59",
   "metadata": {},
   "outputs": [],
   "source": [
    "import math"
   ]
  },
  {
   "cell_type": "code",
   "execution_count": 4,
   "id": "fc21d253-39b5-44a2-bc52-2406dac245be",
   "metadata": {},
   "outputs": [
    {
     "name": "stdout",
     "output_type": "stream",
     "text": [
      "3 4 5.0\n"
     ]
    }
   ],
   "source": [
    "x, y= 3, 4\n",
    "z= math.sqrt(x**2 + y**2)\n",
    "print(x, y, z)"
   ]
  },
  {
   "cell_type": "markdown",
   "id": "820e18d2-0011-49e0-ae70-41d725b5e66a",
   "metadata": {},
   "source": [
    "# Exercise 3"
   ]
  },
  {
   "cell_type": "markdown",
   "id": "e0ed062d-2714-4f62-8015-e2ce03e84109",
   "metadata": {},
   "source": [
    "|**#**|**Term**|**Description**|\n",
    "|:-:|:--|:--|\n",
    "|1|Functions|Does a specific task|\n",
    "|2|Arguments|Usually inside ( ), and thus passes through a function|\n",
    "|3|Comments|Statements that can be added and ignored by python, thus can be used as notetaking|\n",
    "|4|Indentations|Indicates a block of code to be read|\n",
    "|5|Packages|Additional abilities that can be imported to be added to python to widen its abilities|\n",
    "|6|.|indication of ownership|\n",
    "|7|:|designate a block of code|\n",
    "|8|[ ]|create list of data|\n",
    "|9|[[[]]]|nested list, so inside each [] there is another list indicated by []|\n",
    "|10|{}|allow python to store data in dictionaries|"
   ]
  },
  {
   "cell_type": "markdown",
   "id": "e6d4f503-a0ea-41f6-8902-87801177318c",
   "metadata": {},
   "source": [
    "# Exercise 4"
   ]
  },
  {
   "cell_type": "code",
   "execution_count": 3,
   "id": "df798a90-a032-4654-9894-7f0cf428966f",
   "metadata": {},
   "outputs": [
    {
     "data": {
      "text/plain": [
       "2.5"
      ]
     },
     "execution_count": 3,
     "metadata": {},
     "output_type": "execute_result"
    }
   ],
   "source": [
    "5/2 #it gives python a mathematical equation of 5 divide by 2 to give the answer 2.5"
   ]
  },
  {
   "cell_type": "code",
   "execution_count": 5,
   "id": "a812ed0e-cf14-4ba6-b1c6-446f0e3f1fb5",
   "metadata": {},
   "outputs": [
    {
     "data": {
      "text/plain": [
       "2"
      ]
     },
     "execution_count": 5,
     "metadata": {},
     "output_type": "execute_result"
    }
   ],
   "source": [
    "5//2 #it gives python a mathematical equation, but also requires it to round it to the nearest integer (floor division?)"
   ]
  },
  {
   "cell_type": "code",
   "execution_count": 1,
   "id": "34b86206-0067-43dc-a515-7755ea86235c",
   "metadata": {},
   "outputs": [
    {
     "data": {
      "text/plain": [
       "1"
      ]
     },
     "execution_count": 1,
     "metadata": {},
     "output_type": "execute_result"
    }
   ],
   "source": [
    "5%2 #it gives python a mathematical equation, but then requires it to return the remainder after dividing 5 by 2."
   ]
  }
 ],
 "metadata": {
  "kernelspec": {
   "display_name": "Python 3 (ipykernel)",
   "language": "python",
   "name": "python3"
  },
  "language_info": {
   "codemirror_mode": {
    "name": "ipython",
    "version": 3
   },
   "file_extension": ".py",
   "mimetype": "text/x-python",
   "name": "python",
   "nbconvert_exporter": "python",
   "pygments_lexer": "ipython3",
   "version": "3.11.5"
  },
  "toc": {
   "base_numbering": 1,
   "nav_menu": {},
   "number_sections": true,
   "sideBar": true,
   "skip_h1_title": false,
   "title_cell": "Table of Contents",
   "title_sidebar": "Contents",
   "toc_cell": false,
   "toc_position": {},
   "toc_section_display": true,
   "toc_window_display": false
  },
  "vscode": {
   "interpreter": {
    "hash": "31f2aee4e71d21fbe5cf8b01ff0e069b9275f58929596ceb00d14d90e3e16cd6"
   }
  }
 },
 "nbformat": 4,
 "nbformat_minor": 5
}
