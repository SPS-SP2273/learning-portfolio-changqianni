{
 "cells": [
  {
   "attachments": {},
   "cell_type": "markdown",
   "id": "123456",
   "metadata": {},
   "source": [
    "<div style=\"text-align:left;font-size:2em\"><span style=\"font-weight:bolder;font-size:1.25em\">SP2273 | Learning Portfolio</span><br><br><span style=\"font-weight:bold;color:darkred\">Loops (Good) Exercises</span></div>"
   ]
  },
  {
   "cell_type": "markdown",
   "id": "0aa32992-4df0-4f89-9806-447aee3d759a",
   "metadata": {},
   "source": [
    "# Exercise 1"
   ]
  },
  {
   "cell_type": "code",
   "execution_count": 21,
   "id": "26fc1354-9086-4231-ae25-55c00683d86a",
   "metadata": {},
   "outputs": [
    {
     "data": {
      "text/plain": [
       "[1, 9, 25, 49, 81]"
      ]
     },
     "execution_count": 21,
     "metadata": {},
     "output_type": "execute_result"
    }
   ],
   "source": [
    "x=[]\n",
    "for squares in range(10):\n",
    "    number = squares**2\n",
    "    if squares % 2 == 0:\n",
    "        continue\n",
    "    x += [number]\n",
    "x"
   ]
  },
  {
   "cell_type": "markdown",
   "id": "ed8ad29f-be9b-427b-a5cb-2926a4e50094",
   "metadata": {},
   "source": [
    "# Exercise 2"
   ]
  },
  {
   "cell_type": "code",
   "execution_count": 4,
   "id": "b618d7f3-e1b4-4a5f-8afb-0844942b307f",
   "metadata": {},
   "outputs": [
    {
     "data": {
      "text/plain": [
       "[1, 9, 25, 49, 81]"
      ]
     },
     "execution_count": 4,
     "metadata": {},
     "output_type": "execute_result"
    }
   ],
   "source": [
    "[number**2 for number in range(10) if number % 2 == 1]"
   ]
  },
  {
   "cell_type": "markdown",
   "id": "c8ce0116-fc14-42ff-83a2-b2d345831151",
   "metadata": {},
   "source": [
    "# Exercise 3"
   ]
  },
  {
   "cell_type": "code",
   "execution_count": 22,
   "id": "5a88889b-e18e-467e-9a2e-8d639f26871a",
   "metadata": {},
   "outputs": [
    {
     "name": "stdout",
     "output_type": "stream",
     "text": [
      "2.96 µs ± 190 ns per loop (mean ± std. dev. of 7 runs, 100,000 loops each)\n"
     ]
    }
   ],
   "source": [
    "%%timeit\n",
    "\n",
    "x=[]\n",
    "for squares in range(10):\n",
    "    number = squares**2\n",
    "    if squares % 2 == 0:\n",
    "        continue\n",
    "    x += [number]\n",
    "\n",
    "x"
   ]
  },
  {
   "cell_type": "code",
   "execution_count": 13,
   "id": "c1248d03-024e-4434-bc90-d28ca92f5550",
   "metadata": {},
   "outputs": [
    {
     "name": "stdout",
     "output_type": "stream",
     "text": [
      "2.18 µs ± 117 ns per loop (mean ± std. dev. of 7 runs, 100,000 loops each)\n"
     ]
    }
   ],
   "source": [
    "%%timeit\n",
    "[number**2 for number in range(10) if number % 2 ==1]"
   ]
  },
  {
   "cell_type": "markdown",
   "id": "2336bdee-60a4-4f19-a551-8c9e07269348",
   "metadata": {},
   "source": [
    "# Exercise 4"
   ]
  },
  {
   "cell_type": "code",
   "execution_count": 32,
   "id": "8c3c4d4e-bdf1-49b7-9cf6-b858fd33276b",
   "metadata": {},
   "outputs": [
    {
     "name": "stdout",
     "output_type": "stream",
     "text": [
      "14\n"
     ]
    }
   ],
   "source": [
    "radioactive_substance = 100\n",
    "current_substance = radioactive_substance\n",
    "year_number = 0\n",
    "\n",
    "while current_substance > radioactive_substance/2 :\n",
    "    current_substance -= current_substance*0.05 #means current_substance = current_substance - current_substance*0.05\n",
    "    year_number += 1\n",
    "\n",
    "print(year_number)"
   ]
  },
  {
   "cell_type": "markdown",
   "id": "ce303f0d-5dbe-4c31-88a5-66c75ea44d28",
   "metadata": {},
   "source": [
    "# Exercise 5"
   ]
  },
  {
   "cell_type": "code",
   "execution_count": 33,
   "id": "9fb30ca8-b6af-49a0-92d0-87ccdfcdde58",
   "metadata": {},
   "outputs": [],
   "source": [
    "co2_data = [\n",
    "    (2000, 369.55), (2001, 371.14), (2002, 373.28), \n",
    "    (2003, 375.80), (2004, 377.52), (2005, 379.80), \n",
    "    (2006, 381.90), (2007, 383.79), (2008, 385.60), \n",
    "    (2009, 387.43), (2010, 389.90), (2011, 391.65), \n",
    "    (2012, 393.85), (2013, 396.52), (2014, 398.65),\n",
    "    (2015, 400.83), (2016, 404.24), (2017, 406.55), \n",
    "    (2018, 408.52), (2019, 411.44), (2020, 414.24)\n",
    "]"
   ]
  },
  {
   "cell_type": "code",
   "execution_count": 38,
   "id": "56bb864c-8034-499b-9597-24b9a03a18c5",
   "metadata": {},
   "outputs": [
    {
     "name": "stdout",
     "output_type": "stream",
     "text": [
      "2016, 3.410000000000025 ppm\n"
     ]
    }
   ],
   "source": [
    "for i in range(1, len(co2_data)):\n",
    "    concentration_change = co2_data[i][1] - co2_data[i - 1][1]\n",
    "\n",
    "    if concentration_change >= 3:\n",
    "        print(f'{co2_data[i][0]}, {concentration_change} ppm')"
   ]
  }
 ],
 "metadata": {
  "kernelspec": {
   "display_name": "Python 3 (ipykernel)",
   "language": "python",
   "name": "python3"
  },
  "language_info": {
   "codemirror_mode": {
    "name": "ipython",
    "version": 3
   },
   "file_extension": ".py",
   "mimetype": "text/x-python",
   "name": "python",
   "nbconvert_exporter": "python",
   "pygments_lexer": "ipython3",
   "version": "3.11.5"
  },
  "toc": {
   "base_numbering": 1,
   "nav_menu": {},
   "number_sections": true,
   "sideBar": true,
   "skip_h1_title": false,
   "title_cell": "Table of Contents",
   "title_sidebar": "Contents",
   "toc_cell": false,
   "toc_position": {},
   "toc_section_display": true,
   "toc_window_display": false
  },
  "vscode": {
   "interpreter": {
    "hash": "31f2aee4e71d21fbe5cf8b01ff0e069b9275f58929596ceb00d14d90e3e16cd6"
   }
  }
 },
 "nbformat": 4,
 "nbformat_minor": 5
}
