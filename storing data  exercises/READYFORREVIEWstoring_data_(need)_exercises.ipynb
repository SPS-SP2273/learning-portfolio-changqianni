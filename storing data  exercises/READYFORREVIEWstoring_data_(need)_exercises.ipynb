{
 "cells": [
  {
   "attachments": {},
   "cell_type": "markdown",
   "id": "123456",
   "metadata": {},
   "source": [
    "<div style=\"text-align:left;font-size:2em\"><span style=\"font-weight:bolder;font-size:1.25em\">SP2273 | Learning Portfolio</span><br><br><span style=\"font-weight:bold;color:darkred\">Storing Data (Need) Exercises</span></div>"
   ]
  },
  {
   "cell_type": "markdown",
   "id": "0f57c69b-cbc5-42cb-8859-047b8fd8cc04",
   "metadata": {},
   "source": [
    "# Exercise 1"
   ]
  },
  {
   "cell_type": "markdown",
   "id": "f4f62ea3-570e-4928-b312-ca9da6f26abc",
   "metadata": {},
   "source": [
    "Two similarities between list and array:\n",
    "1. For both, the sequence matters\n",
    "2. For both, they use index starting from 0\n",
    "\n",
    "Two differences between list and array:\n",
    "1. Addition will not work for list but will work for array\n",
    "2. Adding the list to itself twice will result in the extension of the length of the list, but for array it will be the values inside being multiple twice for form an array with the same length.\n",
    "\n",
    "What is a dictionary:\n",
    "1. It is another way to store information, but with the usage of : and the sequence of information will not matter unlike list and array."
   ]
  },
  {
   "cell_type": "markdown",
   "id": "6c95a2e2-1ca1-4974-8a41-b68f83f103dd",
   "metadata": {},
   "source": [
    "Other differences between list and array:\n",
    "1. Multiplication and the addition of lists together\n",
    "2. Inability to square lists\n",
    "3. for lists, when asking questions, it in unclear what the exact question is but for array, the question is applied for each and every value inside respectively.\n",
    "4. lists can only do basic python functions like sum, min and ma, but array can do more such as mean and std."
   ]
  },
  {
   "cell_type": "markdown",
   "id": "782c3826-7eac-4fc7-9ee7-a3834f180f7d",
   "metadata": {},
   "source": [
    "# Exercise 2"
   ]
  },
  {
   "cell_type": "code",
   "execution_count": 2,
   "id": "d249276c-3a8a-48a8-8cb8-1da9d2eb2c2a",
   "metadata": {},
   "outputs": [
    {
     "name": "stdout",
     "output_type": "stream",
     "text": [
      "a1\n",
      "c3\n",
      "e5\n",
      "g7\n",
      "i9\n"
     ]
    }
   ],
   "source": [
    "py_list = [\"a1\", \"b2\", \"c3\", \"d4\", \"e5\", \"f6\", \"g7\", \"h8\", \"i9\", \"j10\"]\n",
    "print(py_list[0]) # Prints 'a1'\n",
    "print(py_list[2]) # Prints 'c3'\n",
    "print(py_list[4]) # Prints 'e5'\n",
    "print(py_list[6]) # Prints 'g7'\n",
    "print(py_list[8]) # Prints 'i9'"
   ]
  },
  {
   "cell_type": "markdown",
   "id": "dc8d764f-31cc-486c-9503-3e42ec1846a9",
   "metadata": {},
   "source": [
    "# Exercise 3"
   ]
  },
  {
   "cell_type": "code",
   "execution_count": 3,
   "id": "880af1d2-57a1-4c91-bbda-d02db47ae509",
   "metadata": {},
   "outputs": [],
   "source": [
    "elements = ['Hydrogen',\n",
    "            'Helium', 'Lithium',\n",
    "            'Beryllium', 'Boron', 'Carbon',\n",
    "            'Nitrogen', 'Oxygen',\n",
    "            'Fluorine',\n",
    "            'Neon']"
   ]
  },
  {
   "cell_type": "code",
   "execution_count": 4,
   "id": "faddda46-3235-4a73-b835-bce736d2c2ae",
   "metadata": {},
   "outputs": [
    {
     "name": "stdout",
     "output_type": "stream",
     "text": [
      "Beryllium\n"
     ]
    }
   ],
   "source": [
    "print(elements[3])"
   ]
  },
  {
   "cell_type": "code",
   "execution_count": 10,
   "id": "c2ccb71c-4af4-4539-89f6-30294b83c4a5",
   "metadata": {},
   "outputs": [
    {
     "name": "stdout",
     "output_type": "stream",
     "text": [
      "Beryllium\n"
     ]
    }
   ],
   "source": [
    "print(elements[-7])"
   ]
  },
  {
   "cell_type": "markdown",
   "id": "4a40097b-9b3c-4bf9-bc6f-16fc98f589d0",
   "metadata": {},
   "source": [
    "# Exercise 4"
   ]
  },
  {
   "cell_type": "code",
   "execution_count": 12,
   "id": "aa8f9b1c-55fd-4d90-989e-6d8835b45882",
   "metadata": {},
   "outputs": [],
   "source": [
    "numbers=[45, 60, 1, 30, 96, 1, 96, 57, 16, 1,\n",
    "        99, 62, 86, 43, 42, 60, 59, 1, 1, 35,\n",
    "        83, 47, 34, 28, 68, 23, 22, 92, 1, 79,\n",
    "        1, 29, 94, 72, 46, 47, 1, 74, 32, 20,\n",
    "        8, 37, 35, 1, 89, 29, 86, 19, 43, 61]           "
   ]
  },
  {
   "cell_type": "code",
   "execution_count": 13,
   "id": "61dc0af7-1dfd-465c-8264-909dc460fc26",
   "metadata": {},
   "outputs": [],
   "source": [
    "import numpy as np"
   ]
  },
  {
   "cell_type": "code",
   "execution_count": 16,
   "id": "29103a9f-3677-4a52-b2cf-b67cd54a4e9b",
   "metadata": {},
   "outputs": [],
   "source": [
    "np_numbers = np.array(numbers)"
   ]
  },
  {
   "cell_type": "code",
   "execution_count": 17,
   "id": "1b1fbb51-0f18-467e-9fab-f5b27a88d2c0",
   "metadata": {},
   "outputs": [
    {
     "data": {
      "text/plain": [
       "array([False, False,  True, False, False,  True, False, False, False,\n",
       "        True, False, False, False, False, False, False, False,  True,\n",
       "        True, False, False, False, False, False, False, False, False,\n",
       "       False,  True, False,  True, False, False, False, False, False,\n",
       "        True, False, False, False, False, False, False,  True, False,\n",
       "       False, False, False, False, False])"
      ]
     },
     "execution_count": 17,
     "metadata": {},
     "output_type": "execute_result"
    }
   ],
   "source": [
    "np_numbers == 1"
   ]
  },
  {
   "cell_type": "code",
   "execution_count": 23,
   "id": "61613f6e-fce0-4f19-a151-62e8591bc5e3",
   "metadata": {},
   "outputs": [],
   "source": [
    "truefalse = [False, False,  True, False, False,  True, False, False, False,\n",
    "        True, False, False, False, False, False, False, False,  True,\n",
    "        True, False, False, False, False, False, False, False, False,\n",
    "       False,  True, False,  True, False, False, False, False, False,\n",
    "        True, False, False, False, False, False, False,  True, False,\n",
    "       False, False, False, False, False]"
   ]
  },
  {
   "cell_type": "code",
   "execution_count": 24,
   "id": "76a4f258-76c3-43fd-8931-ec6ea6801215",
   "metadata": {},
   "outputs": [],
   "source": [
    "np_truefalse = np.array(truefalse)"
   ]
  },
  {
   "cell_type": "code",
   "execution_count": 25,
   "id": "7a619303-9fce-44b2-aff6-f73996b6347e",
   "metadata": {},
   "outputs": [
    {
     "data": {
      "text/plain": [
       "9"
      ]
     },
     "execution_count": 25,
     "metadata": {},
     "output_type": "execute_result"
    }
   ],
   "source": [
    "np_truefalse.sum()"
   ]
  }
 ],
 "metadata": {
  "kernelspec": {
   "display_name": "Python 3 (ipykernel)",
   "language": "python",
   "name": "python3"
  },
  "language_info": {
   "codemirror_mode": {
    "name": "ipython",
    "version": 3
   },
   "file_extension": ".py",
   "mimetype": "text/x-python",
   "name": "python",
   "nbconvert_exporter": "python",
   "pygments_lexer": "ipython3",
   "version": "3.11.5"
  },
  "toc": {
   "base_numbering": 1,
   "nav_menu": {},
   "number_sections": true,
   "sideBar": true,
   "skip_h1_title": false,
   "title_cell": "Table of Contents",
   "title_sidebar": "Contents",
   "toc_cell": false,
   "toc_position": {},
   "toc_section_display": true,
   "toc_window_display": false
  },
  "vscode": {
   "interpreter": {
    "hash": "31f2aee4e71d21fbe5cf8b01ff0e069b9275f58929596ceb00d14d90e3e16cd6"
   }
  }
 },
 "nbformat": 4,
 "nbformat_minor": 5
}
