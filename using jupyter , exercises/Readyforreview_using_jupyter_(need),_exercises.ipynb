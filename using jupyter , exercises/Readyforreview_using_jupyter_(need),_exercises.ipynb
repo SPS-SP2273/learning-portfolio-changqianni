{
 "cells": [
  {
   "attachments": {},
   "cell_type": "markdown",
   "id": "123456",
   "metadata": {},
   "source": [
    "<div style=\"text-align:left;font-size:2em\"><span style=\"font-weight:bolder;font-size:1.25em\">SP2273 | Learning Portfolio</span><br><br><span style=\"font-weight:bold;color:darkred\">Using Jupyter (Need), Exercises</span></div>"
   ]
  },
  {
   "cell_type": "markdown",
   "id": "ea3f216b-14f5-4361-9ff3-9247b2678567",
   "metadata": {},
   "source": [
    "**Exercise 1 (Put in markdown):**"
   ]
  },
  {
   "attachments": {},
   "cell_type": "markdown",
   "id": "70c45d21",
   "metadata": {},
   "source": [
    "## Quadratic Equations"
   ]
  },
  {
   "attachments": {},
   "cell_type": "markdown",
   "id": "b4cdb59b",
   "metadata": {},
   "source": [
    "### Introduction"
   ]
  },
  {
   "cell_type": "markdown",
   "id": "c8f8e802-484a-46a4-b816-01a8144eb271",
   "metadata": {},
   "source": [
    "![](https://upload.wikimedia.org/wikipedia/commons/thumb/f/f8/Polynomialdeg2.svg/300px-Polynomialdeg2.svg.png)"
   ]
  },
  {
   "cell_type": "markdown",
   "id": "8a1778f3-b986-4174-b92d-96db29c0c379",
   "metadata": {},
   "source": [
    "(*Image from the* [Wikipedia page on Quadratic equations](https://en.wikipedia.org/wiki/Quadratic_equation))"
   ]
  },
  {
   "cell_type": "markdown",
   "id": "ddef96b0-5fbc-47bd-8476-a9fed2e483ca",
   "metadata": {},
   "source": [
    "The general form of a quadratic equation is:\n",
    "\n",
    "$$\n",
    "ax^2+bx+c=0\n",
    "$$"
   ]
  },
  {
   "attachments": {},
   "cell_type": "markdown",
   "id": "9c0aad97",
   "metadata": {},
   "source": [
    "### Solutions"
   ]
  },
  {
   "cell_type": "markdown",
   "id": "69e0ea3a-57ad-4a2f-9234-fa9a73a78e14",
   "metadata": {},
   "source": [
    "Provided $ a \\ne 0 $, we can use an elementary algebraic method called [completing the square](https://en.wikipedia.org/wiki/Completing_the_square) to show that a quadratic equation has the following solution:\n",
    "\n",
    "$$\n",
    "x= \\dfrac{-b \\pm \\sqrt{b^2-4ac}}{2a}\n",
    "$$"
   ]
  },
  {
   "attachments": {},
   "cell_type": "markdown",
   "id": "303cb392",
   "metadata": {},
   "source": [
    "### Discriminant"
   ]
  },
  {
   "cell_type": "markdown",
   "id": "6351e894-1c74-4a85-a296-f8683385f108",
   "metadata": {},
   "source": [
    "The quantity $\\Delta=b^2-4ac$ is called the **discriminant** of the equation and decides the nature of its solutions. The table below shows the various possibilities.\n",
    "\n",
    "|Discriminant|Roots|\n",
    "|:---|:---|\n",
    "|$\\Delta=b^2-4ac=0$|A single solution of $-b/2a$|\n",
    "|$\\Delta=b^2-4ac\\gt0$|Two distinct solutions|\n",
    "|$\\Delta=b^2-4ac\\lt0$|No real solutions, both are complex.|"
   ]
  },
  {
   "cell_type": "markdown",
   "id": "80d45859-d3ea-4889-802b-8baac7e4f1ef",
   "metadata": {},
   "source": [
    "**Exercise 2 (In your own words)**"
   ]
  },
  {
   "cell_type": "markdown",
   "id": "5e4918f5-9ce8-42f8-8c4c-2a579a0eed99",
   "metadata": {},
   "source": [
    "Use a Markdown Cell to answer the following:\n",
    "\n",
    "1. What is a Git **repository**?\n",
    "\n",
    "It is a storage space that is easily accessible to manage and keep track of files and the directories.\n",
    "\n",
    "2. Git keeps track of ____BLANK____ in the files in the repository\n",
    "\n",
    "commits\n",
    "\n",
    "3. What is a **commit**?\n",
    "\n",
    "A commit is like a saved checkpoint, where it allows the saving of the current state the files and align them along a timeline. This allow the user to keep track of the different stages of work done along the timeline of the project's history. It is just like a logbook.\n",
    "\n",
    "4. What is a **push**?\n",
    "\n",
    "It is the action of transferring the commits of a file from the repository to a remote repository.\n",
    "\n",
    "5. What is a **pull**?\n",
    "\n",
    "It is the action of obtaining and downloading a file from a remote repository to the local repository.\n",
    "\n",
    "6. What is the difference between **GitHub** and **GitHub Desktop**?\n",
    "\n",
    "GitHub is a website that stores the files while GitHub Desktop allows the user to commit these files in the local and cloud copies. Both GitHub and GitHub Desktop interacts. "
   ]
  }
 ],
 "metadata": {
  "kernelspec": {
   "display_name": "Python 3 (ipykernel)",
   "language": "python",
   "name": "python3"
  },
  "language_info": {
   "codemirror_mode": {
    "name": "ipython",
    "version": 3
   },
   "file_extension": ".py",
   "mimetype": "text/x-python",
   "name": "python",
   "nbconvert_exporter": "python",
   "pygments_lexer": "ipython3",
   "version": "3.11.5"
  },
  "toc": {
   "base_numbering": 1,
   "nav_menu": {},
   "number_sections": true,
   "sideBar": true,
   "skip_h1_title": false,
   "title_cell": "Table of Contents",
   "title_sidebar": "Contents",
   "toc_cell": false,
   "toc_position": {},
   "toc_section_display": true,
   "toc_window_display": false
  },
  "vscode": {
   "interpreter": {
    "hash": "31f2aee4e71d21fbe5cf8b01ff0e069b9275f58929596ceb00d14d90e3e16cd6"
   }
  }
 },
 "nbformat": 4,
 "nbformat_minor": 5
}
