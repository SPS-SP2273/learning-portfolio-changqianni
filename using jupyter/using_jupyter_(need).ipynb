{
 "cells": [
  {
   "attachments": {},
   "cell_type": "markdown",
   "id": "123456",
   "metadata": {},
   "source": [
    "<div style=\"text-align:left;font-size:2em\"><span style=\"font-weight:bolder;font-size:1.25em\">SP2273 | Learning Portfolio</span><br><br><span style=\"font-weight:bold;color:darkred\">Using Jupyter (Need)</span></div>"
   ]
  },
  {
   "attachments": {},
   "cell_type": "markdown",
   "id": "3d1246ac",
   "metadata": {},
   "source": [
    "## 3.1 It is all about running cells"
   ]
  },
  {
   "cell_type": "code",
   "execution_count": 9,
   "id": "8819b163-d1a8-4551-b31f-2b23ee2f808e",
   "metadata": {},
   "outputs": [
    {
     "name": "stdout",
     "output_type": "stream",
     "text": [
      "6\n"
     ]
    }
   ],
   "source": [
    "a=4\n",
    "b=2\n",
    "c=a+b\n",
    "print(c)"
   ]
  },
  {
   "attachments": {},
   "cell_type": "markdown",
   "id": "e8b933a2",
   "metadata": {},
   "source": [
    "## 3.2 A traditional start"
   ]
  },
  {
   "cell_type": "code",
   "execution_count": 7,
   "id": "c514d847-1431-4500-b1cd-c69aa663cd7c",
   "metadata": {},
   "outputs": [
    {
     "name": "stdout",
     "output_type": "stream",
     "text": [
      "Hello World!\n"
     ]
    }
   ],
   "source": [
    "print('Hello World!')"
   ]
  },
  {
   "attachments": {},
   "cell_type": "markdown",
   "id": "ac516275",
   "metadata": {},
   "source": [
    "# 4 All about Markdown"
   ]
  },
  {
   "attachments": {},
   "cell_type": "markdown",
   "id": "5e02e9b5",
   "metadata": {},
   "source": [
    "## 4.1 Rendering Markdown cells"
   ]
  },
  {
   "cell_type": "markdown",
   "id": "aeb0e62d-cbbc-4e42-93de-77dc12b7c84a",
   "metadata": {},
   "source": [
    "The ships hung in the sky in much the same way that bricks don’t."
   ]
  },
  {
   "attachments": {},
   "cell_type": "markdown",
   "id": "da6b4677",
   "metadata": {},
   "source": [
    "## 4.2 Some basic syntax"
   ]
  },
  {
   "cell_type": "markdown",
   "id": "55d40149-f08a-4811-98ca-112baabaf57e",
   "metadata": {},
   "source": [
    "The ships *hung in the sky* in much the same way that **bricks don't.**<sup>1</sup><sub>QUOTE</sup>"
   ]
  },
  {
   "attachments": {},
   "cell_type": "markdown",
   "id": "2e4c2ea4",
   "metadata": {},
   "source": [
    "## 4.3 Headings"
   ]
  },
  {
   "cell_type": "markdown",
   "id": "e79d6657-892b-4dee-9a14-924dcf64f598",
   "metadata": {},
   "source": [
    "# Top\n",
    "## Lower\n",
    "### Even lower\n",
    "#### Lowest"
   ]
  },
  {
   "attachments": {},
   "cell_type": "markdown",
   "id": "593a075a",
   "metadata": {},
   "source": [
    "## 4.4 Displaying Code"
   ]
  },
  {
   "cell_type": "markdown",
   "id": "583f47b3-4ccc-4815-97b7-1de2d9d94075",
   "metadata": {},
   "source": [
    "` This is code. `"
   ]
  },
  {
   "cell_type": "markdown",
   "id": "95554d6d-bae9-4fa6-ba90-42aeb83898de",
   "metadata": {},
   "source": [
    "```python\n",
    "print('Hello World!')\n",
    "```"
   ]
  },
  {
   "cell_type": "markdown",
   "id": "4d94ddf9-4ad5-4371-b2e1-7a59f436f8a2",
   "metadata": {},
   "source": [
    "```\n",
    "print('Hello World!')\n",
    "```"
   ]
  },
  {
   "cell_type": "markdown",
   "id": "ac423c8c-df58-4a80-948c-cc6f77127f7e",
   "metadata": {},
   "source": [
    "```python\n",
    "print('Hello World!')\n",
    "x=10\n",
    "```"
   ]
  },
  {
   "cell_type": "markdown",
   "id": "925cefc9-bd3f-4c64-8eb3-d0b6e27b113f",
   "metadata": {},
   "source": [
    "## 4.5 Links"
   ]
  },
  {
   "cell_type": "markdown",
   "id": "fdc4e82b-c950-472c-9036-f756bd38bd1a",
   "metadata": {},
   "source": [
    "[SP2273 Website](https://sps.nus.edu.sg/sp2273)"
   ]
  },
  {
   "attachments": {},
   "cell_type": "markdown",
   "id": "620bd29b",
   "metadata": {},
   "source": [
    "## 4.6 Images"
   ]
  },
  {
   "cell_type": "markdown",
   "id": "ed782f0a-35ab-411e-8d54-f1a94eb182a5",
   "metadata": {},
   "source": [
    "This is a ***happy*** face."
   ]
  },
  {
   "cell_type": "markdown",
   "id": "15eb1d3c-e37a-43e6-8dd0-ff27e040b489",
   "metadata": {},
   "source": [
    "![](https://upload.wikimedia.org/wikipedia/commons/thumb/e/e0/SNice.svg/1200px-SNice.svg.png)"
   ]
  },
  {
   "attachments": {},
   "cell_type": "markdown",
   "id": "8e207dac",
   "metadata": {},
   "source": [
    "## 4.7 Tables"
   ]
  },
  {
   "cell_type": "markdown",
   "id": "e8c2360a-24b1-403a-b42a-879c4b9f8150",
   "metadata": {},
   "source": [
    "|A|B|C|\n",
    "|:---|:--:|---:|\n",
    "|a1|b1|c1|\n",
    "|a2|b2|c2|\n",
    "|a3|b3|c3|"
   ]
  },
  {
   "cell_type": "markdown",
   "id": "7d4c5107-d95f-4b6b-b9ef-b89bd6442a51",
   "metadata": {},
   "source": [
    "|A|B|\n",
    "|:---|---:|\n",
    "|a1|b1|\n",
    "|a2|b2|"
   ]
  },
  {
   "attachments": {},
   "cell_type": "markdown",
   "id": "ff665a98",
   "metadata": {},
   "source": [
    "## 4.8 Lists"
   ]
  },
  {
   "cell_type": "markdown",
   "id": "61276c60-0f33-48f8-b2cf-babe2b611645",
   "metadata": {},
   "source": [
    "1. Master Yoda\n",
    "1. Luke Skywalker\n",
    "1. Anakin Skywalker"
   ]
  },
  {
   "cell_type": "markdown",
   "id": "b8749dbd-38e1-4d35-a574-52040299c0ef",
   "metadata": {},
   "source": [
    "- Master Yoda\n",
    "- Luke Skywalker\n",
    "- Anakin Skywalker"
   ]
  },
  {
   "cell_type": "markdown",
   "id": "74b3591d-e2c0-43f3-a3b4-9fc38e1baa7a",
   "metadata": {},
   "source": [
    "1. Master Yoda\n",
    "   1. Was a Jedi\n",
    "   2. Was a bit green\n",
    "2. Luke Skywalker\n",
    "   1. Was a Jedi\n",
    "   2. Is Anakin's son\n",
    "1. Anakin Skywalker\n",
    "   1. Was a Jedi then became a baddie\n",
    "   2. Is famous for saying 'Luke, I am your father'"
   ]
  },
  {
   "cell_type": "markdown",
   "id": "6383fd8c-ccc0-4cc4-a144-651490bfa74c",
   "metadata": {},
   "source": [
    "1. Master Yoda\r\n",
    "   - Was a Jedi\r\n",
    "   - Was a bit green\r\n",
    "1. Luke Skywalker\r\n",
    "   - Was a Jedi\r\n",
    "   - Is Anakin's son.\r\n",
    "1. Anakin Skywalker\r\n",
    "   - Was a Jedi then, became a baddie\r\n",
    "   - Is famous for saying, _'Luke, I am your father'_."
   ]
  },
  {
   "attachments": {},
   "cell_type": "markdown",
   "id": "a5276f10",
   "metadata": {},
   "source": [
    "## 4.9 Equations"
   ]
  },
  {
   "cell_type": "markdown",
   "id": "7094f53a-7637-4f7a-ab0b-ce3653fd5caa",
   "metadata": {},
   "source": [
    "$\\sqrt{b^2-4ac}$"
   ]
  },
  {
   "cell_type": "markdown",
   "id": "be2a1401-c0da-46f9-beec-e2b240913214",
   "metadata": {},
   "source": [
    "$$\n",
    "x=\\dfrac{-b\\pm\\sqrt{b^2-4ac}}{2a}\n",
    "$$"
   ]
  },
  {
   "cell_type": "markdown",
   "id": "9b6eb598-350d-48df-90d2-123456f10b32",
   "metadata": {},
   "source": [
    "$\n",
    "x=\\dfrac{-b\\pm\\sqrt{b^2-4ac}}{2a}\n",
    "$"
   ]
  },
  {
   "attachments": {},
   "cell_type": "markdown",
   "id": "1272d60a",
   "metadata": {},
   "source": [
    "## Footnotes"
   ]
  },
  {
   "cell_type": "markdown",
   "id": "449aba46-7316-4c06-bf62-01bdaa36da04",
   "metadata": {},
   "source": [
    "This is a owewenfeklwen^[footnote]"
   ]
  }
 ],
 "metadata": {
  "kernelspec": {
   "display_name": "Python 3 (ipykernel)",
   "language": "python",
   "name": "python3"
  },
  "language_info": {
   "codemirror_mode": {
    "name": "ipython",
    "version": 3
   },
   "file_extension": ".py",
   "mimetype": "text/x-python",
   "name": "python",
   "nbconvert_exporter": "python",
   "pygments_lexer": "ipython3",
   "version": "3.11.5"
  },
  "toc": {
   "base_numbering": 1,
   "nav_menu": {},
   "number_sections": true,
   "sideBar": true,
   "skip_h1_title": false,
   "title_cell": "Table of Contents",
   "title_sidebar": "Contents",
   "toc_cell": false,
   "toc_position": {},
   "toc_section_display": true,
   "toc_window_display": false
  },
  "vscode": {
   "interpreter": {
    "hash": "31f2aee4e71d21fbe5cf8b01ff0e069b9275f58929596ceb00d14d90e3e16cd6"
   }
  }
 },
 "nbformat": 4,
 "nbformat_minor": 5
}
